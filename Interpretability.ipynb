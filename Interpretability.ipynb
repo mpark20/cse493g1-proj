{
  "cells": [
    {
      "cell_type": "code",
      "execution_count": null,
      "metadata": {
        "id": "tAH5eEhgfxGn"
      },
      "outputs": [],
      "source": [
        "import sys\n",
        "FOLDERNAME = 'BrainLat_skullstrip'\n",
        "DEFAULT_ROOT = './'\n",
        "sys.path.append(DEFAULT_ROOT)\n",
        "\n",
        "from src.dataset import MRIDataset, CLASS_TO_IDX"
      ]
    },
    {
      "cell_type": "code",
      "execution_count": null,
      "metadata": {
        "id": "gkDTbDoIxNMw"
      },
      "outputs": [],
      "source": [
        "from pytorch_grad_cam import GradCAM, ShapleyCAM, ScoreCAM, GradCAMPlusPlus, XGradCAM\n",
        "from pytorch_grad_cam import GuidedBackpropReLUModel\n",
        "from pytorch_grad_cam.utils.model_targets import ClassifierOutputTarget\n",
        "from pytorch_grad_cam.utils.image import (\n",
        "    show_cam_on_image, deprocess_image, preprocess_image\n",
        ")"
      ]
    },
    {
      "cell_type": "code",
      "execution_count": null,
      "metadata": {
        "id": "zeEX53miiKrc"
      },
      "outputs": [],
      "source": [
        "import datetime\n",
        "import glob\n",
        "import os\n",
        "import pickle\n",
        "import warnings\n",
        "import numpy as np\n",
        "import random\n",
        "import pandas as pd\n",
        "import cv2\n",
        "\n",
        "import matplotlib.pyplot as plt\n",
        "import torch\n",
        "import torch.nn as nn\n",
        "import torch.nn.functional as F\n",
        "import torch.optim as optim\n",
        "import torchvision\n",
        "import torchvision.transforms as transforms\n",
        "from captum.influence import TracInCP, TracInCPFast, TracInCPFastRandProj\n",
        "from torch.utils.data import DataLoader, Dataset, Subset, random_split\n",
        "from src.dataset import MRIDataset, CLASS_TO_IDX, IDX_TO_CLASS\n",
        "\n",
        "def set_seed(seed: int = 42) -> None:\n",
        "    np.random.seed(seed)\n",
        "    random.seed(seed)\n",
        "    torch.manual_seed(seed)\n",
        "    torch.cuda.manual_seed(seed)\n",
        "    # When running on the CuDNN backend, two further options must be set\n",
        "    torch.backends.cudnn.deterministic = True\n",
        "    torch.backends.cudnn.benchmark = False\n",
        "    # Set a fixed value for the hash seed\n",
        "    os.environ[\"PYTHONHASHSEED\"] = str(seed)\n",
        "    print(f\"Random seed set as {seed}\")"
      ]
    },
    {
      "cell_type": "code",
      "execution_count": 24,
      "metadata": {
        "colab": {
          "base_uri": "https://localhost:8080/"
        },
        "id": "nqucsSBexAQs",
        "outputId": "536e67d1-0c08-445d-a6f8-16a7619123cf"
      },
      "outputs": [
        {
          "name": "stdout",
          "output_type": "stream",
          "text": [
            "Loading model from /content/drive/MyDrive/CSE 599 - Deep Learning for Computer Vision/Final_Project/results/resnet/axial_brainlat_ss_transformed...\n"
          ]
        }
      ],
      "source": [
        "save_dir = os.path.join(DEFAULT_ROOT, \"results/resnet\")\n",
        "device = torch.device('cuda' if torch.cuda.is_available() else 'cpu')\n",
        "run_id = \"axial_brainlat_ss_transformed\"  # set this to use an existing checkpoint\n",
        "\n",
        "print(f\"Loading model from {os.path.join(save_dir, run_id)}...\")\n",
        "model = torch.load(os.path.join(save_dir, run_id, 'best_model.pth'), weights_only=False)"
      ]
    },
    {
      "cell_type": "code",
      "execution_count": 25,
      "metadata": {
        "id": "x_lKjkNd6i7d"
      },
      "outputs": [],
      "source": [
        "def load_checkpoints(net, path):\n",
        "    weights = torch.load(path, weights_only=False)\n",
        "    net.load_state_dict(weights[\"model_state_dict\"])\n",
        "    return 1.\n",
        "\n",
        "checkpoints_dir = os.path.join(save_dir, 'axial_brainlat_transformed', 'checkpoints')\n",
        "final_checkpoint = os.path.join(checkpoints_dir, 'checkpoint-16.pt')\n",
        "load_checkpoints(model, final_checkpoint)\n",
        "model = model.to(device)"
      ]
    },
    {
      "cell_type": "code",
      "execution_count": 41,
      "metadata": {
        "colab": {
          "base_uri": "https://localhost:8080/"
        },
        "id": "-MS6tlwTv3rJ",
        "outputId": "ae237a30-d73e-4eeb-e20b-11ff063a66bc"
      },
      "outputs": [
        {
          "name": "stdout",
          "output_type": "stream",
          "text": [
            "Train size: 308\n",
            "Val size: 38\n",
            "Test size: 40\n"
          ]
        }
      ],
      "source": [
        "orientation = 'axial'\n",
        "batch_size = 32\n",
        "\n",
        "train_path = os.path.join(DEFAULT_ROOT, f\"{FOLDERNAME}/train_index.csv\")\n",
        "val_path = os.path.join(DEFAULT_ROOT, f\"{FOLDERNAME}/val_index.csv\")\n",
        "test_path = os.path.join(DEFAULT_ROOT, f\"{FOLDERNAME}/test_index.csv\")\n",
        "\n",
        "train_dataset = MRIDataset(train_path, DEFAULT_ROOT, orient=orientation, device='cuda')\n",
        "val_dataset = MRIDataset(val_path, DEFAULT_ROOT, orient=orientation, device='cuda')\n",
        "test_dataset = MRIDataset(test_path, DEFAULT_ROOT, orient=orientation, device='cuda')\n",
        "\n",
        "train_loader = DataLoader(train_dataset, batch_size=batch_size)\n",
        "val_loader = DataLoader(val_dataset, batch_size=batch_size)\n",
        "test_loader = DataLoader(test_dataset, batch_size=batch_size)\n",
        "\n",
        "print(f\"Train size: {len(train_dataset)}\")\n",
        "print(f\"Val size: {len(val_dataset)}\")\n",
        "print(f\"Test size: {len(test_dataset)}\")"
      ]
    },
    {
      "cell_type": "markdown",
      "metadata": {
        "id": "HFHAvodIhvEN"
      },
      "source": [
        "### TraceIn"
      ]
    },
    {
      "cell_type": "code",
      "execution_count": 42,
      "metadata": {
        "id": "1IBUfJISQl96"
      },
      "outputs": [],
      "source": [
        "tracin_cp_fast = TracInCPFast(\n",
        "    model=model,\n",
        "    final_fc_layer=list(model.children())[-1],\n",
        "    train_dataset=train_dataset,\n",
        "    checkpoints=checkpoints_dir,\n",
        "    checkpoints_load_func=load_checkpoints,\n",
        "    loss_fn=nn.CrossEntropyLoss(reduction=\"sum\"),\n",
        "    batch_size=16,\n",
        "    vectorize=False,\n",
        ")"
      ]
    },
    {
      "cell_type": "code",
      "execution_count": 43,
      "metadata": {
        "id": "ETMV3MZA7xjM"
      },
      "outputs": [],
      "source": [
        "test_examples_features = []\n",
        "test_examples_true_labels = []\n",
        "\n",
        "for images, labels in test_loader:\n",
        "  test_examples_features = images.to(device)\n",
        "  test_examples_true_labels = labels.to(device)\n",
        "  # break\n",
        "test_examples_predicted_probs, test_examples_predicted_labels = torch.max(F.softmax(model(test_examples_features), dim=1), dim=1)"
      ]
    },
    {
      "cell_type": "code",
      "execution_count": 44,
      "metadata": {
        "colab": {
          "base_uri": "https://localhost:8080/"
        },
        "id": "6I1YU2wa7kCI",
        "outputId": "1c043ff6-6292-4838-e5f3-a1a68639326a"
      },
      "outputs": [
        {
          "name": "stdout",
          "output_type": "stream",
          "text": [
            "Computed proponents / opponents over a dataset of 308 examples in 3.86 minutes\n"
          ]
        }
      ],
      "source": [
        "k = 10\n",
        "start_time = datetime.datetime.now()\n",
        "proponents_indices, proponents_influence_scores = tracin_cp_fast.influence(\n",
        "    (test_examples_features, test_examples_true_labels), k=k, proponents=True\n",
        ")\n",
        "opponents_indices, opponents_influence_scores = tracin_cp_fast.influence(\n",
        "    (test_examples_features, test_examples_true_labels), k=k, proponents=False\n",
        ")\n",
        "total_minutes = (datetime.datetime.now() - start_time).total_seconds() / 60.0\n",
        "print(\n",
        "    \"Computed proponents / opponents over a dataset of %d examples in %.2f minutes\"\n",
        "    % (len(train_dataset), total_minutes)\n",
        ")"
      ]
    },
    {
      "cell_type": "code",
      "execution_count": 45,
      "metadata": {
        "id": "Usr8Gbly02yh"
      },
      "outputs": [],
      "source": [
        "proponents_indices = proponents_indices.int()\n",
        "opponents_indices = opponents_indices.int()"
      ]
    },
    {
      "cell_type": "code",
      "execution_count": 46,
      "metadata": {
        "colab": {
          "base_uri": "https://localhost:8080/"
        },
        "id": "-gFEEC2KvQUl",
        "outputId": "50ff742b-a1b4-4041-b4fc-ad0693968391"
      },
      "outputs": [
        {
          "data": {
            "text/plain": [
              "ResNet(\n",
              "  (conv1): Conv2d(3, 64, kernel_size=(7, 7), stride=(2, 2), padding=(3, 3), bias=False)\n",
              "  (bn1): BatchNorm2d(64, eps=1e-05, momentum=0.1, affine=True, track_running_stats=True)\n",
              "  (relu): ReLU(inplace=True)\n",
              "  (maxpool): MaxPool2d(kernel_size=3, stride=2, padding=1, dilation=1, ceil_mode=False)\n",
              "  (layer1): Sequential(\n",
              "    (0): Bottleneck(\n",
              "      (conv1): Conv2d(64, 64, kernel_size=(1, 1), stride=(1, 1), bias=False)\n",
              "      (bn1): BatchNorm2d(64, eps=1e-05, momentum=0.1, affine=True, track_running_stats=True)\n",
              "      (conv2): Conv2d(64, 64, kernel_size=(3, 3), stride=(1, 1), padding=(1, 1), bias=False)\n",
              "      (bn2): BatchNorm2d(64, eps=1e-05, momentum=0.1, affine=True, track_running_stats=True)\n",
              "      (conv3): Conv2d(64, 256, kernel_size=(1, 1), stride=(1, 1), bias=False)\n",
              "      (bn3): BatchNorm2d(256, eps=1e-05, momentum=0.1, affine=True, track_running_stats=True)\n",
              "      (relu): ReLU(inplace=True)\n",
              "      (downsample): Sequential(\n",
              "        (0): Conv2d(64, 256, kernel_size=(1, 1), stride=(1, 1), bias=False)\n",
              "        (1): BatchNorm2d(256, eps=1e-05, momentum=0.1, affine=True, track_running_stats=True)\n",
              "      )\n",
              "    )\n",
              "    (1): Bottleneck(\n",
              "      (conv1): Conv2d(256, 64, kernel_size=(1, 1), stride=(1, 1), bias=False)\n",
              "      (bn1): BatchNorm2d(64, eps=1e-05, momentum=0.1, affine=True, track_running_stats=True)\n",
              "      (conv2): Conv2d(64, 64, kernel_size=(3, 3), stride=(1, 1), padding=(1, 1), bias=False)\n",
              "      (bn2): BatchNorm2d(64, eps=1e-05, momentum=0.1, affine=True, track_running_stats=True)\n",
              "      (conv3): Conv2d(64, 256, kernel_size=(1, 1), stride=(1, 1), bias=False)\n",
              "      (bn3): BatchNorm2d(256, eps=1e-05, momentum=0.1, affine=True, track_running_stats=True)\n",
              "      (relu): ReLU(inplace=True)\n",
              "    )\n",
              "    (2): Bottleneck(\n",
              "      (conv1): Conv2d(256, 64, kernel_size=(1, 1), stride=(1, 1), bias=False)\n",
              "      (bn1): BatchNorm2d(64, eps=1e-05, momentum=0.1, affine=True, track_running_stats=True)\n",
              "      (conv2): Conv2d(64, 64, kernel_size=(3, 3), stride=(1, 1), padding=(1, 1), bias=False)\n",
              "      (bn2): BatchNorm2d(64, eps=1e-05, momentum=0.1, affine=True, track_running_stats=True)\n",
              "      (conv3): Conv2d(64, 256, kernel_size=(1, 1), stride=(1, 1), bias=False)\n",
              "      (bn3): BatchNorm2d(256, eps=1e-05, momentum=0.1, affine=True, track_running_stats=True)\n",
              "      (relu): ReLU(inplace=True)\n",
              "    )\n",
              "  )\n",
              "  (layer2): Sequential(\n",
              "    (0): Bottleneck(\n",
              "      (conv1): Conv2d(256, 128, kernel_size=(1, 1), stride=(1, 1), bias=False)\n",
              "      (bn1): BatchNorm2d(128, eps=1e-05, momentum=0.1, affine=True, track_running_stats=True)\n",
              "      (conv2): Conv2d(128, 128, kernel_size=(3, 3), stride=(2, 2), padding=(1, 1), bias=False)\n",
              "      (bn2): BatchNorm2d(128, eps=1e-05, momentum=0.1, affine=True, track_running_stats=True)\n",
              "      (conv3): Conv2d(128, 512, kernel_size=(1, 1), stride=(1, 1), bias=False)\n",
              "      (bn3): BatchNorm2d(512, eps=1e-05, momentum=0.1, affine=True, track_running_stats=True)\n",
              "      (relu): ReLU(inplace=True)\n",
              "      (downsample): Sequential(\n",
              "        (0): Conv2d(256, 512, kernel_size=(1, 1), stride=(2, 2), bias=False)\n",
              "        (1): BatchNorm2d(512, eps=1e-05, momentum=0.1, affine=True, track_running_stats=True)\n",
              "      )\n",
              "    )\n",
              "    (1): Bottleneck(\n",
              "      (conv1): Conv2d(512, 128, kernel_size=(1, 1), stride=(1, 1), bias=False)\n",
              "      (bn1): BatchNorm2d(128, eps=1e-05, momentum=0.1, affine=True, track_running_stats=True)\n",
              "      (conv2): Conv2d(128, 128, kernel_size=(3, 3), stride=(1, 1), padding=(1, 1), bias=False)\n",
              "      (bn2): BatchNorm2d(128, eps=1e-05, momentum=0.1, affine=True, track_running_stats=True)\n",
              "      (conv3): Conv2d(128, 512, kernel_size=(1, 1), stride=(1, 1), bias=False)\n",
              "      (bn3): BatchNorm2d(512, eps=1e-05, momentum=0.1, affine=True, track_running_stats=True)\n",
              "      (relu): ReLU(inplace=True)\n",
              "    )\n",
              "    (2): Bottleneck(\n",
              "      (conv1): Conv2d(512, 128, kernel_size=(1, 1), stride=(1, 1), bias=False)\n",
              "      (bn1): BatchNorm2d(128, eps=1e-05, momentum=0.1, affine=True, track_running_stats=True)\n",
              "      (conv2): Conv2d(128, 128, kernel_size=(3, 3), stride=(1, 1), padding=(1, 1), bias=False)\n",
              "      (bn2): BatchNorm2d(128, eps=1e-05, momentum=0.1, affine=True, track_running_stats=True)\n",
              "      (conv3): Conv2d(128, 512, kernel_size=(1, 1), stride=(1, 1), bias=False)\n",
              "      (bn3): BatchNorm2d(512, eps=1e-05, momentum=0.1, affine=True, track_running_stats=True)\n",
              "      (relu): ReLU(inplace=True)\n",
              "    )\n",
              "    (3): Bottleneck(\n",
              "      (conv1): Conv2d(512, 128, kernel_size=(1, 1), stride=(1, 1), bias=False)\n",
              "      (bn1): BatchNorm2d(128, eps=1e-05, momentum=0.1, affine=True, track_running_stats=True)\n",
              "      (conv2): Conv2d(128, 128, kernel_size=(3, 3), stride=(1, 1), padding=(1, 1), bias=False)\n",
              "      (bn2): BatchNorm2d(128, eps=1e-05, momentum=0.1, affine=True, track_running_stats=True)\n",
              "      (conv3): Conv2d(128, 512, kernel_size=(1, 1), stride=(1, 1), bias=False)\n",
              "      (bn3): BatchNorm2d(512, eps=1e-05, momentum=0.1, affine=True, track_running_stats=True)\n",
              "      (relu): ReLU(inplace=True)\n",
              "    )\n",
              "  )\n",
              "  (layer3): Sequential(\n",
              "    (0): Bottleneck(\n",
              "      (conv1): Conv2d(512, 256, kernel_size=(1, 1), stride=(1, 1), bias=False)\n",
              "      (bn1): BatchNorm2d(256, eps=1e-05, momentum=0.1, affine=True, track_running_stats=True)\n",
              "      (conv2): Conv2d(256, 256, kernel_size=(3, 3), stride=(2, 2), padding=(1, 1), bias=False)\n",
              "      (bn2): BatchNorm2d(256, eps=1e-05, momentum=0.1, affine=True, track_running_stats=True)\n",
              "      (conv3): Conv2d(256, 1024, kernel_size=(1, 1), stride=(1, 1), bias=False)\n",
              "      (bn3): BatchNorm2d(1024, eps=1e-05, momentum=0.1, affine=True, track_running_stats=True)\n",
              "      (relu): ReLU(inplace=True)\n",
              "      (downsample): Sequential(\n",
              "        (0): Conv2d(512, 1024, kernel_size=(1, 1), stride=(2, 2), bias=False)\n",
              "        (1): BatchNorm2d(1024, eps=1e-05, momentum=0.1, affine=True, track_running_stats=True)\n",
              "      )\n",
              "    )\n",
              "    (1): Bottleneck(\n",
              "      (conv1): Conv2d(1024, 256, kernel_size=(1, 1), stride=(1, 1), bias=False)\n",
              "      (bn1): BatchNorm2d(256, eps=1e-05, momentum=0.1, affine=True, track_running_stats=True)\n",
              "      (conv2): Conv2d(256, 256, kernel_size=(3, 3), stride=(1, 1), padding=(1, 1), bias=False)\n",
              "      (bn2): BatchNorm2d(256, eps=1e-05, momentum=0.1, affine=True, track_running_stats=True)\n",
              "      (conv3): Conv2d(256, 1024, kernel_size=(1, 1), stride=(1, 1), bias=False)\n",
              "      (bn3): BatchNorm2d(1024, eps=1e-05, momentum=0.1, affine=True, track_running_stats=True)\n",
              "      (relu): ReLU(inplace=True)\n",
              "    )\n",
              "    (2): Bottleneck(\n",
              "      (conv1): Conv2d(1024, 256, kernel_size=(1, 1), stride=(1, 1), bias=False)\n",
              "      (bn1): BatchNorm2d(256, eps=1e-05, momentum=0.1, affine=True, track_running_stats=True)\n",
              "      (conv2): Conv2d(256, 256, kernel_size=(3, 3), stride=(1, 1), padding=(1, 1), bias=False)\n",
              "      (bn2): BatchNorm2d(256, eps=1e-05, momentum=0.1, affine=True, track_running_stats=True)\n",
              "      (conv3): Conv2d(256, 1024, kernel_size=(1, 1), stride=(1, 1), bias=False)\n",
              "      (bn3): BatchNorm2d(1024, eps=1e-05, momentum=0.1, affine=True, track_running_stats=True)\n",
              "      (relu): ReLU(inplace=True)\n",
              "    )\n",
              "    (3): Bottleneck(\n",
              "      (conv1): Conv2d(1024, 256, kernel_size=(1, 1), stride=(1, 1), bias=False)\n",
              "      (bn1): BatchNorm2d(256, eps=1e-05, momentum=0.1, affine=True, track_running_stats=True)\n",
              "      (conv2): Conv2d(256, 256, kernel_size=(3, 3), stride=(1, 1), padding=(1, 1), bias=False)\n",
              "      (bn2): BatchNorm2d(256, eps=1e-05, momentum=0.1, affine=True, track_running_stats=True)\n",
              "      (conv3): Conv2d(256, 1024, kernel_size=(1, 1), stride=(1, 1), bias=False)\n",
              "      (bn3): BatchNorm2d(1024, eps=1e-05, momentum=0.1, affine=True, track_running_stats=True)\n",
              "      (relu): ReLU(inplace=True)\n",
              "    )\n",
              "    (4): Bottleneck(\n",
              "      (conv1): Conv2d(1024, 256, kernel_size=(1, 1), stride=(1, 1), bias=False)\n",
              "      (bn1): BatchNorm2d(256, eps=1e-05, momentum=0.1, affine=True, track_running_stats=True)\n",
              "      (conv2): Conv2d(256, 256, kernel_size=(3, 3), stride=(1, 1), padding=(1, 1), bias=False)\n",
              "      (bn2): BatchNorm2d(256, eps=1e-05, momentum=0.1, affine=True, track_running_stats=True)\n",
              "      (conv3): Conv2d(256, 1024, kernel_size=(1, 1), stride=(1, 1), bias=False)\n",
              "      (bn3): BatchNorm2d(1024, eps=1e-05, momentum=0.1, affine=True, track_running_stats=True)\n",
              "      (relu): ReLU(inplace=True)\n",
              "    )\n",
              "    (5): Bottleneck(\n",
              "      (conv1): Conv2d(1024, 256, kernel_size=(1, 1), stride=(1, 1), bias=False)\n",
              "      (bn1): BatchNorm2d(256, eps=1e-05, momentum=0.1, affine=True, track_running_stats=True)\n",
              "      (conv2): Conv2d(256, 256, kernel_size=(3, 3), stride=(1, 1), padding=(1, 1), bias=False)\n",
              "      (bn2): BatchNorm2d(256, eps=1e-05, momentum=0.1, affine=True, track_running_stats=True)\n",
              "      (conv3): Conv2d(256, 1024, kernel_size=(1, 1), stride=(1, 1), bias=False)\n",
              "      (bn3): BatchNorm2d(1024, eps=1e-05, momentum=0.1, affine=True, track_running_stats=True)\n",
              "      (relu): ReLU(inplace=True)\n",
              "    )\n",
              "  )\n",
              "  (layer4): Sequential(\n",
              "    (0): Bottleneck(\n",
              "      (conv1): Conv2d(1024, 512, kernel_size=(1, 1), stride=(1, 1), bias=False)\n",
              "      (bn1): BatchNorm2d(512, eps=1e-05, momentum=0.1, affine=True, track_running_stats=True)\n",
              "      (conv2): Conv2d(512, 512, kernel_size=(3, 3), stride=(2, 2), padding=(1, 1), bias=False)\n",
              "      (bn2): BatchNorm2d(512, eps=1e-05, momentum=0.1, affine=True, track_running_stats=True)\n",
              "      (conv3): Conv2d(512, 2048, kernel_size=(1, 1), stride=(1, 1), bias=False)\n",
              "      (bn3): BatchNorm2d(2048, eps=1e-05, momentum=0.1, affine=True, track_running_stats=True)\n",
              "      (relu): ReLU(inplace=True)\n",
              "      (downsample): Sequential(\n",
              "        (0): Conv2d(1024, 2048, kernel_size=(1, 1), stride=(2, 2), bias=False)\n",
              "        (1): BatchNorm2d(2048, eps=1e-05, momentum=0.1, affine=True, track_running_stats=True)\n",
              "      )\n",
              "    )\n",
              "    (1): Bottleneck(\n",
              "      (conv1): Conv2d(2048, 512, kernel_size=(1, 1), stride=(1, 1), bias=False)\n",
              "      (bn1): BatchNorm2d(512, eps=1e-05, momentum=0.1, affine=True, track_running_stats=True)\n",
              "      (conv2): Conv2d(512, 512, kernel_size=(3, 3), stride=(1, 1), padding=(1, 1), bias=False)\n",
              "      (bn2): BatchNorm2d(512, eps=1e-05, momentum=0.1, affine=True, track_running_stats=True)\n",
              "      (conv3): Conv2d(512, 2048, kernel_size=(1, 1), stride=(1, 1), bias=False)\n",
              "      (bn3): BatchNorm2d(2048, eps=1e-05, momentum=0.1, affine=True, track_running_stats=True)\n",
              "      (relu): ReLU(inplace=True)\n",
              "    )\n",
              "    (2): Bottleneck(\n",
              "      (conv1): Conv2d(2048, 512, kernel_size=(1, 1), stride=(1, 1), bias=False)\n",
              "      (bn1): BatchNorm2d(512, eps=1e-05, momentum=0.1, affine=True, track_running_stats=True)\n",
              "      (conv2): Conv2d(512, 512, kernel_size=(3, 3), stride=(1, 1), padding=(1, 1), bias=False)\n",
              "      (bn2): BatchNorm2d(512, eps=1e-05, momentum=0.1, affine=True, track_running_stats=True)\n",
              "      (conv3): Conv2d(512, 2048, kernel_size=(1, 1), stride=(1, 1), bias=False)\n",
              "      (bn3): BatchNorm2d(2048, eps=1e-05, momentum=0.1, affine=True, track_running_stats=True)\n",
              "      (relu): ReLU(inplace=True)\n",
              "    )\n",
              "  )\n",
              "  (avgpool): AdaptiveAvgPool2d(output_size=(1, 1))\n",
              "  (fc): Sequential(\n",
              "    (0): Dropout(p=0, inplace=False)\n",
              "    (1): Linear(in_features=2048, out_features=2, bias=True)\n",
              "  )\n",
              ")"
            ]
          },
          "execution_count": 46,
          "metadata": {},
          "output_type": "execute_result"
        }
      ],
      "source": [
        "model"
      ]
    },
    {
      "cell_type": "code",
      "execution_count": null,
      "metadata": {
        "id": "JITqfCoGmHAa"
      },
      "outputs": [],
      "source": [
        "target_layers = [model.layer4[-1]]\n",
        "cam = GradCAM(model=model, target_layers=target_layers)\n",
        "targets = [ClassifierOutputTarget(CLASS_TO_IDX[\"AD\"])]\n",
        "\n",
        "# UNCOMMENT FOR GUIDED BACKPROP\n",
        "# gb_model = GuidedBackpropReLUModel(model=model, device=device)\n",
        "\n",
        "label_to_class = IDX_TO_CLASS\n",
        "\n",
        "imshow_transform = lambda x: torch.permute(x, (1, 2, 0)).cpu().numpy()\n",
        "\n",
        "def display_test_example(example, true_label, predicted_label, predicted_prob, label_to_class, idx):\n",
        "    plt.subplots()\n",
        "    print('true_class:', label_to_class[true_label.item()])\n",
        "    print('predicted_class:', label_to_class[predicted_label.item()])\n",
        "    print('predicted_prob', predicted_prob)\n",
        "    plt.imshow(np.rot90(imshow_transform(example)))\n",
        "    grayscale_cam = cam(input_tensor=example[None, :, :, :], targets=targets)\n",
        "    grayscale_cam_ = grayscale_cam[0, :]\n",
        "    vis = show_cam_on_image(imshow_transform(example), grayscale_cam_)\n",
        "    plt.title('True: ' + str(label_to_class[true_label.item()]) + \", Pred: \" + label_to_class[predicted_label.item()])\n",
        "    plt.imshow(np.rot90(vis))\n",
        "\n",
        "    # UNCOMMENT FOR GUIDED BACKPROP\n",
        "    # gb = gb_model(example[None, :, :, :], target_category=None)\n",
        "    # cam_gb = deprocess_image(grayscale_cam.transpose(1, 2, 0) * gb)\n",
        "    # result = deprocess_image(gb)\n",
        "    # ax.imshow(result)\n",
        "\n",
        "    plt.savefig(DEFAULT_ROOT + 'figures/test_' + str(idx) + '.png')\n",
        "    plt.show()\n",
        "\n",
        "def display_training_examples(examples, true_labels, label_to_class, idx, figsize=(10,4)):\n",
        "    plt.figure(figsize=figsize)\n",
        "    num_examples = len(examples)\n",
        "    for i in range(num_examples):\n",
        "        plt.subplot(1, num_examples, i + 1)\n",
        "        plt.imshow(np.rot90(imshow_transform(examples[i])))\n",
        "        plt.title(label_to_class[true_labels[i].item()])\n",
        "        grayscale_cam = cam(input_tensor=examples[i][None, :, :, :], targets=targets)\n",
        "        grayscale_cam_ = grayscale_cam[0, :]\n",
        "        vis = show_cam_on_image(imshow_transform(examples[i]), grayscale_cam_)\n",
        "        plt.imshow(np.rot90(vis))\n",
        "\n",
        "    plt.savefig(DEFAULT_ROOT + './figures/' + idx + '.png')\n",
        "\n",
        "def display_proponents_and_opponents(test_examples_batch, proponents_indices, opponents_indices, test_examples_true_labels, test_examples_predicted_labels, test_examples_predicted_probs):\n",
        "    idx = 1\n",
        "    for (\n",
        "        test_example,\n",
        "        test_example_proponents,\n",
        "        test_example_opponents,\n",
        "        test_example_true_label,\n",
        "        test_example_predicted_label,\n",
        "        test_example_predicted_prob,\n",
        "    ) in zip(\n",
        "        test_examples_batch,\n",
        "        proponents_indices,\n",
        "        opponents_indices,\n",
        "        test_examples_true_labels,\n",
        "        test_examples_predicted_labels,\n",
        "        test_examples_predicted_probs,\n",
        "    ):\n",
        "\n",
        "        print(\"test example:\")\n",
        "        display_test_example(\n",
        "            test_example,\n",
        "            test_example_true_label,\n",
        "            test_example_predicted_label,\n",
        "            test_example_predicted_prob,\n",
        "            label_to_class,\n",
        "            idx + 32\n",
        "        )\n",
        "\n",
        "        print(\"proponents:\")\n",
        "        test_example_proponents_tensors, test_example_proponents_labels = zip(\n",
        "            *[train_dataset[int(i)] for i in test_example_proponents]\n",
        "        )\n",
        "        display_training_examples(\n",
        "            test_example_proponents_tensors, test_example_proponents_labels, label_to_class, 'pro_' + str(idx + 32), figsize=(20, 8),\n",
        "        )\n",
        "\n",
        "        print(\"opponents:\")\n",
        "        test_example_opponents_tensors, test_example_opponents_labels = zip(\n",
        "            *[train_dataset[int(i)] for i in test_example_opponents]\n",
        "        )\n",
        "        display_training_examples(\n",
        "            test_example_opponents_tensors, test_example_opponents_labels, label_to_class, 'opp_' + str(idx + 32), figsize=(20, 8)\n",
        "        )\n",
        "        idx += 1\n"
      ]
    },
    {
      "cell_type": "code",
      "execution_count": null,
      "metadata": {
        "id": "uk7cFkH_ml17"
      },
      "outputs": [],
      "source": [
        "display_proponents_and_opponents(\n",
        "    test_examples_features,\n",
        "    proponents_indices,\n",
        "    opponents_indices,\n",
        "    test_examples_true_labels,\n",
        "    test_examples_predicted_labels,\n",
        "    test_examples_predicted_probs,\n",
        ")"
      ]
    }
  ],
  "metadata": {
    "accelerator": "GPU",
    "colab": {
      "gpuType": "T4",
      "provenance": []
    },
    "kernelspec": {
      "display_name": "Python 3",
      "name": "python3"
    },
    "language_info": {
      "name": "python"
    }
  },
  "nbformat": 4,
  "nbformat_minor": 0
}
